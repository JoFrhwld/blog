{
 "cells": [
  {
   "cell_type": "raw",
   "id": "bcd65b31",
   "metadata": {
    "vscode": {
     "languageId": "raw"
    }
   },
   "source": [
    "---\n",
    "title: Blueprint Model of Production, Pythonically\n",
    "description: I try to implement the formal description of phonology and phonetics from @nelson2025 in python.\n",
    "bibliography: references.bib\n",
    "---"
   ]
  },
  {
   "cell_type": "markdown",
   "id": "89a65382",
   "metadata": {},
   "source": [
    "I just saw a really interesting paper by Scott Nelson and Jeffrey Heinz [@nelson2025] that proposes a model of phonology and phonetics as complex function application that maintains a discrete phonology while also alowing for things like incomplete neutralization. I myself am always *sort of* able to follow formal notation, but get a better understanding if I try rewriting it in a programming language of some sort. So I'm giving it a go here in Python.\n",
    "\n",
    "::: callout-important\n",
    "## Caveats\n",
    "\n",
    "1. I haven't conferred with the authors about this. You should not construe anything I say here as being cosigned by them in any way!\n",
    "2. I'm not the most formal savvy guy out there. It's possible I'm errorfully miscontruing their paper, but I *am* earnestly trying to be accurate.\n",
    "3. You should really just [go read their paper](cambridge.org/core/journals/phonology/article/blueprint-model-of-production/8F5DCE3962C064DA547FD44B5BD21218).\n",
    "\n",
    ":::\n",
    "\n",
    "## My approach to the functions\n",
    "\n",
    "In their paper they say\n",
    "\n",
    "> For every $n$­ary function, there is an equivalent ($n+1$)-ary relation. Since phonology is a unary function (i.e., it has one input, a UR), it can also be envisioned as a binary relation consisting of UR and SR pairs $\\langle$ UR, SR $\\rangle$.\n",
    "\n",
    "To capture that fact, and also to make my python functions operate in a way that I feel is principled, I'm going to have (almost) every function return a tuple of its input and output like so:"
   ]
  },
  {
   "cell_type": "code",
   "execution_count": 1,
   "id": "ab80e8b2",
   "metadata": {},
   "outputs": [
    {
     "data": {
      "text/plain": [
       "('hello!', 'h')"
      ]
     },
     "execution_count": 1,
     "metadata": {},
     "output_type": "execute_result"
    }
   ],
   "source": [
    "def my_fun(x:str) -> tuple[str, str]:\n",
    "  return (x, x[0])\n",
    "\n",
    "my_fun(\"hello!\")"
   ]
  },
  {
   "cell_type": "markdown",
   "id": "77c086f6",
   "metadata": {},
   "source": [
    "## Typing\n",
    "I'm also including typing on *most* of the functions as well. If you're not familiar, `x:str` means that this function has one parameter `x`, and that parameter is a string. The `-> tuple[str, str]` part means that the function returns a tuple with two values, both of them strings. By including typing, I was able to rely on automatic type checking in my IDE to tell me if the values I was actually returning were what I thought I was returning. They eventually get a little illegible... but they're still mechanically useful."
   ]
  },
  {
   "cell_type": "markdown",
   "id": "4cd7a6e3",
   "metadata": {},
   "source": [
    "## Getting started with the lexicon\n",
    "\n",
    "Nelson & Heinz weren't very explicit about what the structure of the lexicon was, and I think that's cause it doesn't really matter. So I just need to make a decision and say that each item in the lexicon will be a list with two values. The first example they work through was word-final devoicing, so I'll say the first will either be `\"+\"` or `\"-\"` for [+voice] or [-voice]. The second value will be either `\"#\"` for \"word final\" or `\".\"` for \"everything else\"."
   ]
  },
  {
   "cell_type": "code",
   "execution_count": 2,
   "id": "3b6b9d26",
   "metadata": {},
   "outputs": [],
   "source": [
    "import numpy as np\n",
    "import numpy.typing as npt\n",
    "from typing import Callable"
   ]
  },
  {
   "cell_type": "code",
   "execution_count": 3,
   "id": "f64f4289",
   "metadata": {},
   "outputs": [],
   "source": [
    "L = [\n",
    "  [\"+\", \"#\"],\n",
    "  [\"-\", \"#\"],\n",
    "  [\"+\", \".\"],\n",
    "  [\"-\", \".\"]\n",
    "]"
   ]
  },
  {
   "cell_type": "markdown",
   "id": "e4ab31cc",
   "metadata": {},
   "source": [
    "## The Phonology\n",
    "\n",
    "I'm going to write the phonology (`P()`) to map every underlying representation (UR) in the lexicon to its surface representation (SR). So I really want the function to look like `P(L)`. \n",
    "\n",
    "For the actual mapping of a specific UR to a specific SR, I'll define a function internal to `P()` called `neut()`. I guess this `neut()` function is what's \"encapsulated\" within `P()`, and it's the closest to what feels familiar as a \"phonological rule\"."
   ]
  },
  {
   "cell_type": "code",
   "execution_count": 4,
   "id": "cc6dfbdb",
   "metadata": {},
   "outputs": [],
   "source": [
    "def P(L:list[list[str]])->list[tuple[list[str], list[str]]]:\n",
    "  \"\"\"\n",
    "  Map all URs to SRs\n",
    "  \"\"\"\n",
    "  def neut(UR: list[str]) -> tuple[list[str], list[str]]:\n",
    "    \"\"\"\n",
    "    Neutralize '+' to '-' when a '#' follows.\n",
    "    \"\"\"\n",
    "    if UR[0] == \"+\" and UR[1] == \"#\":\n",
    "      return (UR, [\"-\", \"#\"])\n",
    "    return (UR, UR)\n",
    "  return list(map(neut, L))"
   ]
  },
  {
   "cell_type": "markdown",
   "id": "2c3fb5fe",
   "metadata": {},
   "source": [
    "Here's how the phonology looks when applied to the lexicon."
   ]
  },
  {
   "cell_type": "code",
   "execution_count": 5,
   "id": "fdd70aa7",
   "metadata": {},
   "outputs": [
    {
     "data": {
      "text/plain": [
       "[(['+', '#'], ['-', '#']),\n",
       " (['-', '#'], ['-', '#']),\n",
       " (['+', '.'], ['+', '.']),\n",
       " (['-', '.'], ['-', '.'])]"
      ]
     },
     "execution_count": 5,
     "metadata": {},
     "output_type": "execute_result"
    }
   ],
   "source": [
    "P(L)"
   ]
  },
  {
   "cell_type": "markdown",
   "id": "63127457",
   "metadata": {},
   "source": [
    "## Phonetics\n",
    "\n",
    "The Phonetics (which they call 'A' in the paper) maps the Phonology (P) to phonetic targets. They get incomplete neutralization out of this by saying both the UR and the SR get targets mapped.\n",
    "\n",
    "Here's where I needed to make some decisions I wasn't sure about, specifically in what the output of A was. One possibility is that it should just be a list of the targets\n",
    "\n",
    "$$\n",
    "\\left[\\begin{array}{c}\n",
    "x_1, y_1\\\\\n",
    "\\ldots\\\\\n",
    "x_i, y_i\n",
    "\\end{array}\\right]\n",
    "$$\n",
    "\n",
    "But the *input* was a $\\langle$ UR, SR $\\rangle$ tuple, and in keeping with treating $n$ ary functions as $(n+1)$-ary relations, maybe the output should also be a list of tuples.\n",
    "\n",
    "$$\n",
    "\\left[\\begin{array}{ll}\n",
    "\\langle\\langle\\text{UR},\\text{SR}\\rangle, & [x_1, y_1]\\rangle\\\\\n",
    "\\ldots\\\\\n",
    "\\langle\\langle\\text{UR},\\text{SR}\\rangle, & [x_i, y_i]\\rangle\n",
    "\\end{array}\\right]\n",
    "$$\n",
    "\n",
    "I decided to go this second route, since it felt more principled than changing how these functions work midway. \n",
    "\n",
    "I also had to make a few decisions about the internal functions of `A()`. Nelson & Heinz weren't very specific about how the cue assignment worked, or whether the process was identical for URs and SRs. I feel like the model would get very unconstrained if it was different, so I wrote just one internal `target()` function that maps over UR, SR pairs. This `target()` function is most similar to what I think of as the \"Phonology-Phonetics Interface\".\n",
    "\n",
    "Then, inside the targeting function, I have an internal `voicing()` function that maps feature values to specific cue values. This is the most similar to what I think of as a \"phonetic implementation rule\"."
   ]
  },
  {
   "cell_type": "code",
   "execution_count": 6,
   "id": "74576bec",
   "metadata": {},
   "outputs": [],
   "source": [
    "def A(P:list[tuple[list[str], list[str]]]) -> list[tuple[tuple[list[str],list[str]],npt.NDArray]]:\n",
    "  \"\"\"\n",
    "  Assign targets to P(L)\n",
    "  \"\"\"\n",
    "  def target(UR_SR:tuple[list[str], list[str]]) -> tuple[tuple[list[str],list[str]],npt.NDArray]:\n",
    "    \"\"\"\n",
    "    Assign targets to each representation in <UR, SR>\n",
    "    \"\"\"\n",
    "    def voicing(rep: list[str]) -> float|None:\n",
    "      \"\"\"\n",
    "      Return cue value for each feature value.\n",
    "      \"\"\"\n",
    "      if rep[0] == \"+\":\n",
    "        return 2.0\n",
    "      if rep[0] == \"-\":\n",
    "        return 1.0\n",
    "      \n",
    "    return (UR_SR, np.array(list(map(voicing, UR_SR))))\n",
    "  \n",
    "  return list(map(target, P))\n"
   ]
  },
  {
   "cell_type": "markdown",
   "id": "387b6fff",
   "metadata": {},
   "source": [
    "The typing is pretty incomprehensible, and we're dealing with two levels of function embedding, but in the end we get the kind of output we're looking for."
   ]
  },
  {
   "cell_type": "code",
   "execution_count": 7,
   "id": "5a7812b3",
   "metadata": {},
   "outputs": [
    {
     "data": {
      "text/plain": [
       "[((['+', '#'], ['-', '#']), array([2., 1.])),\n",
       " ((['-', '#'], ['-', '#']), array([1., 1.])),\n",
       " ((['+', '.'], ['+', '.']), array([2., 2.])),\n",
       " ((['-', '.'], ['-', '.']), array([1., 1.]))]"
      ]
     },
     "execution_count": 7,
     "metadata": {},
     "output_type": "execute_result"
    }
   ],
   "source": [
    "A(P(L))"
   ]
  },
  {
   "cell_type": "markdown",
   "id": "9f6b28ea",
   "metadata": {},
   "source": [
    "## Intent\n",
    "\n",
    "Finally, there's the \"Intent\" (I) function that takes in the cue values from `A()` and weights & combines them according to an intention to keep underlying features distinct. \n",
    "\n",
    "Now, a function that looks like `I(A(P(L)))` won't do the trick, because the intention value varies. I could let `I()` take a second parameter like `I(A(P(L)), i)`, but none of the other functions I've written so far have done that, so I don't want start now. Instead, I wrote an `I_factory()` function which returns a parameterized `I()` function. The `I()` function then weights and sums the target values to return the Phonetic Realization.\n",
    "\n",
    "At this point, I decided that I wasn't going to bother with returning a tuple of $\\langle$ input, output $\\rangle$ because\n",
    "\n",
    "1. This is the last step.\n",
    "2. The typing would be monstrous.\n",
    "\n"
   ]
  },
  {
   "cell_type": "code",
   "execution_count": 8,
   "id": "af43dbf0",
   "metadata": {},
   "outputs": [],
   "source": [
    "def I_factory(i:float = 0.0) -> Callable:\n",
    "  \"\"\"\n",
    "  Return a parameterized Intent function\n",
    "  \"\"\"\n",
    "  def I(A:list[tuple[tuple[list[str],list[str]],npt.NDArray]]) -> list[float]:\n",
    "    \"\"\"\n",
    "    Map A() to a phonetic cue, according to distinctness intent.\n",
    "    \"\"\"\n",
    "    weights = np.array([i, 1-i])\n",
    "    def PR(ur_sr_target):\n",
    "      \"\"\"\n",
    "      Weight and combine cues.\n",
    "      \"\"\"\n",
    "      return np.dot(ur_sr_target[1], weights)\n",
    "    return list(map(PR, A))\n",
    "  return(I)"
   ]
  },
  {
   "cell_type": "markdown",
   "id": "370028fc",
   "metadata": {},
   "source": [
    "Here it is in action!"
   ]
  },
  {
   "cell_type": "code",
   "execution_count": 9,
   "id": "eec572a9",
   "metadata": {},
   "outputs": [
    {
     "data": {
      "text/plain": [
       "[np.float64(1.0), np.float64(1.0), np.float64(2.0), np.float64(1.0)]"
      ]
     },
     "execution_count": 9,
     "metadata": {},
     "output_type": "execute_result"
    }
   ],
   "source": [
    "# Full Neutralization\n",
    "I_factory(i = 0)(A(P(L)))"
   ]
  },
  {
   "cell_type": "code",
   "execution_count": 10,
   "id": "55fa014b",
   "metadata": {},
   "outputs": [
    {
     "data": {
      "text/plain": [
       "[np.float64(1.1), np.float64(1.0), np.float64(2.0), np.float64(1.0)]"
      ]
     },
     "execution_count": 10,
     "metadata": {},
     "output_type": "execute_result"
    }
   ],
   "source": [
    "# Incomplete Neutralization\n",
    "I_factory(i = 0.1)(A(P(L)))"
   ]
  },
  {
   "cell_type": "markdown",
   "id": "ce636d8c",
   "metadata": {},
   "source": [
    "## Thoughts \n",
    "\n",
    "A kind of interesting thing to note is that the Intention function only looked at and weighted the cues from `A()`, but the full $\\langle$ UR, SR $\\rangle$ tuples were *also* there. I don't know what `I()` could have done with them, but they *were* right there.\n",
    "\n",
    "Overall, even if I got things wrong, this has felt like an enlightening exercise. It's definitely an approach to Phonology and Phonetics I'll be noodling over for a bit."
   ]
  }
 ],
 "metadata": {
  "kernelspec": {
   "display_name": "renv-python-3.12 (3.12.2)",
   "language": "python",
   "name": "python3"
  },
  "language_info": {
   "codemirror_mode": {
    "name": "ipython",
    "version": 3
   },
   "file_extension": ".py",
   "mimetype": "text/x-python",
   "name": "python",
   "nbconvert_exporter": "python",
   "pygments_lexer": "ipython3",
   "version": "3.12.2"
  }
 },
 "nbformat": 4,
 "nbformat_minor": 5
}
